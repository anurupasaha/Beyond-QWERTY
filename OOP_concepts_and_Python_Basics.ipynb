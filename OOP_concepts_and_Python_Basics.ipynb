{
  "nbformat": 4,
  "nbformat_minor": 0,
  "metadata": {
    "colab": {
      "provenance": [],
      "authorship_tag": "ABX9TyOcpjl5X+8KEluVAUbGDYbp",
      "include_colab_link": true
    },
    "kernelspec": {
      "name": "python3",
      "display_name": "Python 3"
    },
    "language_info": {
      "name": "python"
    }
  },
  "cells": [
    {
      "cell_type": "markdown",
      "metadata": {
        "id": "view-in-github",
        "colab_type": "text"
      },
      "source": [
        "<a href=\"https://colab.research.google.com/github/anurupasaha/Beyond-QWERTY/blob/main/OOP_concepts_and_Python_Basics.ipynb\" target=\"_parent\"><img src=\"https://colab.research.google.com/assets/colab-badge.svg\" alt=\"Open In Colab\"/></a>"
      ]
    },
    {
      "cell_type": "markdown",
      "source": [
        "### **1. Python Basics**"
      ],
      "metadata": {
        "id": "lPPRNFiCTTpp"
      }
    },
    {
      "cell_type": "markdown",
      "source": [
        "# Variable declaration"
      ],
      "metadata": {
        "id": "uoUrwZqGTWwv"
      }
    },
    {
      "cell_type": "code",
      "source": [
        "name = \"John\"  # String\n",
        "total_marks = 95  # Integer\n",
        "average_marks = 78.5  # Float\n",
        "is_passed = True  # Boolean"
      ],
      "metadata": {
        "id": "MBZF21DpS47R"
      },
      "execution_count": null,
      "outputs": []
    },
    {
      "cell_type": "markdown",
      "source": [
        "# Print types of variables"
      ],
      "metadata": {
        "id": "xIZ4s-Z6TZng"
      }
    },
    {
      "cell_type": "code",
      "source": [
        "print(f\"Name: {name}, Type: {type(name)}\")\n",
        "print(f\"Total Marks: {total_marks}, Type: {type(total_marks)}\")\n",
        "print(f\"Average Marks: {average_marks}, Type: {type(average_marks)}\")\n",
        "print(f\"Passed: {is_passed}, Type: {type(is_passed)}\")"
      ],
      "metadata": {
        "colab": {
          "base_uri": "https://localhost:8080/"
        },
        "id": "YhotVoMKS9-J",
        "outputId": "34e5d289-d50a-4f32-9a21-040d24efac15"
      },
      "execution_count": null,
      "outputs": [
        {
          "output_type": "stream",
          "name": "stdout",
          "text": [
            "Name: John, Type: <class 'str'>\n",
            "Total Marks: 95, Type: <class 'int'>\n",
            "Average Marks: 78.5, Type: <class 'float'>\n",
            "Passed: True, Type: <class 'bool'>\n"
          ]
        }
      ]
    },
    {
      "cell_type": "markdown",
      "source": [
        "# Basic Operations"
      ],
      "metadata": {
        "id": "b0kLpNNVTccj"
      }
    },
    {
      "cell_type": "code",
      "source": [
        "x, y = 10, 20\n",
        "print(\"Addition:\", x + y)\n",
        "print(\"Subtraction:\", x - y)\n",
        "print(\"Multiplication:\", x * y)\n",
        "print(\"Division:\", x / y)"
      ],
      "metadata": {
        "colab": {
          "base_uri": "https://localhost:8080/"
        },
        "id": "jpXU2Ua-TCjj",
        "outputId": "d8119c0b-5631-4614-c32c-42f43b3c63fb"
      },
      "execution_count": null,
      "outputs": [
        {
          "output_type": "stream",
          "name": "stdout",
          "text": [
            "Addition: 30\n",
            "Subtraction: -10\n",
            "Multiplication: 200\n",
            "Division: 0.5\n"
          ]
        }
      ]
    },
    {
      "cell_type": "markdown",
      "source": [
        "### **2. Control Structures**"
      ],
      "metadata": {
        "id": "EtSJX7JNTNGM"
      }
    },
    {
      "cell_type": "markdown",
      "source": [
        "# If-Else, Loops, and Functions"
      ],
      "metadata": {
        "id": "Uz0ETgAXTiqN"
      }
    },
    {
      "cell_type": "code",
      "source": [
        "# If-Else\n",
        "marks = 75\n",
        "if marks >= 90:\n",
        "    grade = 'A'\n",
        "elif marks >= 75:\n",
        "    grade = 'B'\n",
        "else:\n",
        "    grade = 'C'\n",
        "print(f\"Marks: {marks}, Grade: {grade}\")"
      ],
      "metadata": {
        "colab": {
          "base_uri": "https://localhost:8080/"
        },
        "id": "B_E2rFaRTLYW",
        "outputId": "4fffa0d3-8a37-44f6-b5bc-afba085f11b0"
      },
      "execution_count": null,
      "outputs": [
        {
          "output_type": "stream",
          "name": "stdout",
          "text": [
            "Marks: 75, Grade: B\n"
          ]
        }
      ]
    },
    {
      "cell_type": "code",
      "source": [
        "# Loops\n",
        "# For Loop\n",
        "for i in range(5):\n",
        "    print(f\"Iteration {i}\")"
      ],
      "metadata": {
        "colab": {
          "base_uri": "https://localhost:8080/"
        },
        "id": "DEy4MT04TnZK",
        "outputId": "77a59e00-4b4e-401b-891a-66fea9504853"
      },
      "execution_count": null,
      "outputs": [
        {
          "output_type": "stream",
          "name": "stdout",
          "text": [
            "Iteration 0\n",
            "Iteration 1\n",
            "Iteration 2\n",
            "Iteration 3\n",
            "Iteration 4\n"
          ]
        }
      ]
    },
    {
      "cell_type": "code",
      "source": [
        "# While Loop\n",
        "counter = 3\n",
        "while counter > 0:\n",
        "    print(f\"Counter: {counter}\")\n",
        "    counter -= 1"
      ],
      "metadata": {
        "colab": {
          "base_uri": "https://localhost:8080/"
        },
        "id": "Jbw3QRZlTsJK",
        "outputId": "3746d9ee-b546-412d-dfb6-19c767854475"
      },
      "execution_count": null,
      "outputs": [
        {
          "output_type": "stream",
          "name": "stdout",
          "text": [
            "Counter: 3\n",
            "Counter: 2\n",
            "Counter: 1\n"
          ]
        }
      ]
    },
    {
      "cell_type": "code",
      "source": [
        "# Functions\n",
        "# Defining a function\n",
        "def greet_user(username):\n",
        "    return f\"Hello, {username}!\"\n",
        "\n",
        "# Calling the function\n",
        "print(greet_user(\"Alice\"))"
      ],
      "metadata": {
        "colab": {
          "base_uri": "https://localhost:8080/"
        },
        "id": "lAwu__C1Tz4d",
        "outputId": "0e688134-7842-40e8-f823-1c7b0da67f6f"
      },
      "execution_count": null,
      "outputs": [
        {
          "output_type": "stream",
          "name": "stdout",
          "text": [
            "Hello, Alice!\n"
          ]
        }
      ]
    },
    {
      "cell_type": "markdown",
      "source": [
        "##3. Object-Oriented Programming\n",
        "\n"
      ],
      "metadata": {
        "id": "hH8zGSAsUFK2"
      }
    },
    {
      "cell_type": "markdown",
      "source": [
        "# Classes, Objects, and Methods"
      ],
      "metadata": {
        "id": "DLTTUv3kUJma"
      }
    },
    {
      "cell_type": "code",
      "source": [
        "# Defining a class\n",
        "class Student:\n",
        "    def __init__(self, name, roll_number):\n",
        "        self.name = name\n",
        "        self.roll_number = roll_number\n",
        "\n",
        "    def display_details(self):\n",
        "        return f\"Name: {self.name}, Roll Number: {self.roll_number}\""
      ],
      "metadata": {
        "id": "JmucHsTOUHUA"
      },
      "execution_count": null,
      "outputs": []
    },
    {
      "cell_type": "code",
      "source": [
        "# Creating objects\n",
        "student1 = Student(\"Alice\", 101)\n",
        "student2 = Student(\"Bob\", 102)"
      ],
      "metadata": {
        "id": "equnwsw_URnB"
      },
      "execution_count": null,
      "outputs": []
    },
    {
      "cell_type": "code",
      "source": [
        "# Accessing methods\n",
        "print(student1.display_details())\n",
        "print(student2.display_details())"
      ],
      "metadata": {
        "colab": {
          "base_uri": "https://localhost:8080/"
        },
        "id": "Lk2YjYV9UVc_",
        "outputId": "10b51186-6512-4537-994a-a07f940754f5"
      },
      "execution_count": null,
      "outputs": [
        {
          "output_type": "stream",
          "name": "stdout",
          "text": [
            "Name: Alice, Roll Number: 101\n",
            "Name: Bob, Roll Number: 102\n"
          ]
        }
      ]
    },
    {
      "cell_type": "markdown",
      "source": [
        "#Inheritance and Polymorphism\n"
      ],
      "metadata": {
        "id": "GQtdNXbZU43R"
      }
    },
    {
      "cell_type": "code",
      "source": [
        "# Inheritance\n",
        "class Animal:\n",
        "    def speak(self):\n",
        "        return \"This animal makes a sound.\"\n",
        "\n",
        "class Dog(Animal):\n",
        "    def speak(self):\n",
        "        return \"Woof Woof!\""
      ],
      "metadata": {
        "id": "h1y_UfiBUXSc"
      },
      "execution_count": null,
      "outputs": []
    },
    {
      "cell_type": "code",
      "source": [
        "# Polymorphism\n",
        "animals = [Animal(), Dog()]\n",
        "for animal in animals:\n",
        "    print(animal.speak())"
      ],
      "metadata": {
        "colab": {
          "base_uri": "https://localhost:8080/"
        },
        "id": "zsNxmCA5U9AQ",
        "outputId": "beec8a25-d0c9-402a-9ac2-fd093648969a"
      },
      "execution_count": null,
      "outputs": [
        {
          "output_type": "stream",
          "name": "stdout",
          "text": [
            "This animal makes a sound.\n",
            "Woof Woof!\n"
          ]
        }
      ]
    },
    {
      "cell_type": "markdown",
      "source": [
        "Inheritance allows a class to use methods and attributes of another class."
      ],
      "metadata": {
        "id": "dKGO7AULW9iM"
      }
    },
    {
      "cell_type": "code",
      "source": [
        "class Animal:\n",
        "    def speak(self):\n",
        "        print(\"Animal speaks\")\n",
        "\n",
        "class Dog(Animal):\n",
        "    def speak(self):\n",
        "        print(\"Dog barks\")\n",
        "\n",
        "# Example\n",
        "animal = Animal()\n",
        "animal.speak()\n",
        "dog = Dog()\n",
        "dog.speak()"
      ],
      "metadata": {
        "colab": {
          "base_uri": "https://localhost:8080/"
        },
        "id": "vbeVPj4jWzd5",
        "outputId": "6c7a4f7b-2c56-4d7b-91d6-9f1f3120dd52"
      },
      "execution_count": null,
      "outputs": [
        {
          "output_type": "stream",
          "name": "stdout",
          "text": [
            "Animal speaks\n",
            "Dog barks\n"
          ]
        }
      ]
    },
    {
      "cell_type": "markdown",
      "source": [
        "Polymorphism allows the same interface to be used for different data types or classes."
      ],
      "metadata": {
        "id": "jEI2mxFcW_KF"
      }
    },
    {
      "cell_type": "code",
      "source": [
        "class Shape:\n",
        "    def area(self):\n",
        "        pass\n",
        "\n",
        "class Rectangle(Shape):\n",
        "    def __init__(self, width, height):\n",
        "        self.width = width\n",
        "        self.height = height\n",
        "\n",
        "    def area(self):\n",
        "        return self.width * self.height\n",
        "\n",
        "class Circle(Shape):\n",
        "    def __init__(self, radius):\n",
        "        self.radius = radius\n",
        "\n",
        "    def area(self):\n",
        "        return 3.14 * self.radius ** 2\n",
        "\n",
        "# Example\n",
        "shapes = [Rectangle(10, 5), Circle(7)]\n",
        "for shape in shapes:\n",
        "    print(\"Area:\", shape.area())"
      ],
      "metadata": {
        "colab": {
          "base_uri": "https://localhost:8080/"
        },
        "id": "xYm8e2AxXCId",
        "outputId": "04388c52-9e37-462a-e1e6-fe493966142c"
      },
      "execution_count": null,
      "outputs": [
        {
          "output_type": "stream",
          "name": "stdout",
          "text": [
            "Area: 50\n",
            "Area: 153.86\n"
          ]
        }
      ]
    },
    {
      "cell_type": "markdown",
      "source": [
        "## Encapsulation"
      ],
      "metadata": {
        "id": "YKuKrMigWb3s"
      }
    },
    {
      "cell_type": "markdown",
      "source": [
        "Encapsulation is the bundling of data and methods that operate on the data within one unit, typically a class."
      ],
      "metadata": {
        "id": "XYPQ7grcWjYK"
      }
    },
    {
      "cell_type": "code",
      "source": [
        "class BankAccount:\n",
        "    def __init__(self, owner, balance):\n",
        "        self.owner = owner\n",
        "        self.__balance = balance  # Private attribute\n",
        "\n",
        "    def deposit(self, amount):\n",
        "        self.__balance += amount\n",
        "\n",
        "    def withdraw(self, amount):\n",
        "        if amount <= self.__balance:\n",
        "            self.__balance -= amount\n",
        "        else:\n",
        "            print(\"Insufficient funds\")\n",
        "\n",
        "    def get_balance(self):\n",
        "        return self.__balance\n",
        "\n",
        "# Example\n",
        "account = BankAccount(\"Alice\", 1000)\n",
        "account.deposit(500)\n",
        "print(\"Balance:\", account.get_balance())"
      ],
      "metadata": {
        "colab": {
          "base_uri": "https://localhost:8080/"
        },
        "id": "DMOGSghXWZST",
        "outputId": "3546d249-e08f-4412-f4d5-f5d5c7554933"
      },
      "execution_count": null,
      "outputs": [
        {
          "output_type": "stream",
          "name": "stdout",
          "text": [
            "Balance: 1500\n"
          ]
        }
      ]
    },
    {
      "cell_type": "markdown",
      "source": [
        "# Lists, Tuples, Sets, and Dictionaries"
      ],
      "metadata": {
        "id": "j0buEGdTVQJb"
      }
    },
    {
      "cell_type": "code",
      "source": [
        "# List\n",
        "fruits = [\"Apple\", \"Banana\", \"Cherry\"]\n",
        "fruits.append(\"Dragonfruit\")  # Add element\n",
        "print(f\"Fruits: {fruits}\")\n",
        "\n",
        "# Tuple\n",
        "coordinates = (10, 20, 30)  # Immutable sequence\n",
        "print(f\"Coordinates: {coordinates}\")\n",
        "\n",
        "# Set\n",
        "unique_numbers = {1, 2, 3, 3, 2, 1}  # Unordered collection\n",
        "print(f\"Unique Numbers: {unique_numbers}\")\n",
        "\n",
        "# Dictionary\n",
        "grades = {\"John\": 85, \"Alice\": 92, \"Bob\": 78}  # Key-value pairs\n",
        "print(f\"Grades: {grades}\")"
      ],
      "metadata": {
        "colab": {
          "base_uri": "https://localhost:8080/"
        },
        "id": "GAhycsCZVBPs",
        "outputId": "a982ad1f-af7a-4e56-d367-36dbb049ca7b"
      },
      "execution_count": null,
      "outputs": [
        {
          "output_type": "stream",
          "name": "stdout",
          "text": [
            "Fruits: ['Apple', 'Banana', 'Cherry', 'Dragonfruit']\n",
            "Coordinates: (10, 20, 30)\n",
            "Unique Numbers: {1, 2, 3}\n",
            "Grades: {'John': 85, 'Alice': 92, 'Bob': 78}\n"
          ]
        }
      ]
    },
    {
      "cell_type": "code",
      "source": [
        "# List Example\n",
        "my_list = [1, 2, 3, 4, 5]\n",
        "print(\"Initial List:\", my_list)\n",
        "my_list.append(6)\n",
        "my_list.remove(3)\n",
        "print(\"List after append and remove:\", my_list)"
      ],
      "metadata": {
        "colab": {
          "base_uri": "https://localhost:8080/"
        },
        "id": "S5dAWnxaZPQe",
        "outputId": "1146e459-b2bf-4c6e-d862-cf4a39471679"
      },
      "execution_count": null,
      "outputs": [
        {
          "output_type": "stream",
          "name": "stdout",
          "text": [
            "Initial List: [1, 2, 3, 4, 5]\n",
            "List after append and remove: [1, 2, 4, 5, 6]\n"
          ]
        }
      ]
    },
    {
      "cell_type": "code",
      "source": [
        "# Tuple Example\n",
        "my_tuple = (1, 2, 3, 4, 5)\n",
        "print(\"Tuple elements:\", my_tuple)\n",
        "print(\"Accessing second element:\", my_tuple[1])"
      ],
      "metadata": {
        "colab": {
          "base_uri": "https://localhost:8080/"
        },
        "id": "AXh-KwtRZUwG",
        "outputId": "942774f8-a25f-4737-956a-27d73f830f2d"
      },
      "execution_count": null,
      "outputs": [
        {
          "output_type": "stream",
          "name": "stdout",
          "text": [
            "Tuple elements: (1, 2, 3, 4, 5)\n",
            "Accessing second element: 2\n"
          ]
        }
      ]
    },
    {
      "cell_type": "code",
      "source": [
        "# Set Example\n",
        "my_set = {1, 2, 3, 4, 5}\n",
        "print(\"Initial Set:\", my_set)\n",
        "my_set.add(6)\n",
        "my_set.discard(2)\n",
        "print(\"Set after add and discard:\", my_set)"
      ],
      "metadata": {
        "colab": {
          "base_uri": "https://localhost:8080/"
        },
        "id": "4WoS8tB0ZUrG",
        "outputId": "076fb461-547e-4dd5-b1ac-a129fa465a6b"
      },
      "execution_count": null,
      "outputs": [
        {
          "output_type": "stream",
          "name": "stdout",
          "text": [
            "Initial Set: {1, 2, 3, 4, 5}\n",
            "Set after add and discard: {1, 3, 4, 5, 6}\n"
          ]
        }
      ]
    },
    {
      "cell_type": "code",
      "source": [
        "# Dictionary Example\n",
        "dictionary = {'a': 1, 'b': 2, 'c': 3}\n",
        "print(\"Initial Dictionary:\", dictionary)\n",
        "dictionary['d'] = 4\n",
        "del dictionary['b']\n",
        "print(\"Dictionary after add and delete:\", dictionary)"
      ],
      "metadata": {
        "colab": {
          "base_uri": "https://localhost:8080/"
        },
        "id": "_s6wb99lZUdl",
        "outputId": "d0f86093-4d86-471a-e801-326ac820b344"
      },
      "execution_count": null,
      "outputs": [
        {
          "output_type": "stream",
          "name": "stdout",
          "text": [
            "Initial Dictionary: {'a': 1, 'b': 2, 'c': 3}\n",
            "Dictionary after add and delete: {'a': 1, 'c': 3, 'd': 4}\n"
          ]
        }
      ]
    },
    {
      "cell_type": "markdown",
      "source": [
        "### List vs Tuple vs Set vs Dictionary"
      ],
      "metadata": {
        "id": "Isudc7DiXUAc"
      }
    },
    {
      "cell_type": "markdown",
      "source": [
        "| Feature               | List                   | Tuple                  | Set                    | Dictionary             |\n",
        "|-----------------------|------------------------|------------------------|------------------------|------------------------|\n",
        "| **Definition**        | Ordered collection of items | Ordered collection of items | Unordered collection of unique items | Collection of key-value pairs |\n",
        "| **Mutability**        | Mutable               | Immutable              | Mutable               | Mutable               |\n",
        "| **Order**             | Ordered               | Ordered               | Unordered             | Ordered (Python 3.7+) |\n",
        "| **Duplicates Allowed**| Yes                   | Yes                   | No                    | Keys: No, Values: Yes |\n",
        "| **Indexed Access**    | Yes                   | Yes                   | No                    | Keys only             |\n",
        "| **Operations**        | Append, Remove, Sort  | Access elements, Concatenate | Add, Remove, Membership Test | Add, Remove, Update, Membership Test |\n",
        "| **Usage**             | General-purpose collection | Fixed data that should not change | Fast membership tests, mathematical operations | Fast lookups, structured data |\n",
        "| **Performance**       | Slower than Tuple     | Faster than List      | Optimized for Membership Tests | Optimized for Key-Value Lookups |\n",
        "| **Memory Usage**      | Higher than Tuple     | Lower than List       | Higher than List/Tuple | Depends on keys and values |\n",
        "| **When to Use**       | Dynamic collections, frequent modifications | Fixed collections of items | Unique items, membership checks | Key-value mappings, fast retrieval |\n",
        "| **Syntax**            | `[1, 2, 3]`           | `(1, 2, 3)`           | `{1, 2, 3}`           | `{'key': 'value'}`    |\n"
      ],
      "metadata": {
        "id": "0btJaHygY1By"
      }
    },
    {
      "cell_type": "markdown",
      "source": [
        "### Lambda Functions\n",
        "A short, anonymous function defined with 'lambda'."
      ],
      "metadata": {
        "id": "S7RK-XvOhhSD"
      }
    },
    {
      "cell_type": "markdown",
      "source": [
        "**Syntax:**  lambda arguments: *expression*\n",
        "\n",
        "**Characteristics:**  \n",
        "   - No name unless assigned to a variable.  \n",
        "   - Only one expression allowed.\n",
        "\n",
        "**Uses:**  \n",
        "   - Quick one-liners.  \n",
        "   - Works well with `map()`, `filter()`, and `reduce()`."
      ],
      "metadata": {
        "id": "Eu3mEPSLh4q9"
      }
    },
    {
      "cell_type": "code",
      "source": [
        "square = lambda x: x**2\n",
        "print(\"Square of 4:\", square(4))"
      ],
      "metadata": {
        "id": "jMsRjsfxW-Nj",
        "colab": {
          "base_uri": "https://localhost:8080/"
        },
        "outputId": "b06dcac8-cdb5-4a5f-9887-2212522dc70e"
      },
      "execution_count": 6,
      "outputs": [
        {
          "output_type": "stream",
          "name": "stdout",
          "text": [
            "Square of 4: 16\n"
          ]
        }
      ]
    },
    {
      "cell_type": "code",
      "source": [
        "add = lambda x, y: x + y\n",
        "print(\"Sum of 3 and 5:\", add(3, 5))"
      ],
      "metadata": {
        "colab": {
          "base_uri": "https://localhost:8080/"
        },
        "id": "BtvwsyT8iJAH",
        "outputId": "0fe4339b-ea4c-4533-a0d2-fd4cb7469fff"
      },
      "execution_count": 7,
      "outputs": [
        {
          "output_type": "stream",
          "name": "stdout",
          "text": [
            "Sum of 3 and 5: 8\n"
          ]
        }
      ]
    },
    {
      "cell_type": "code",
      "source": [
        "numbers = [1, 2, 3, 4, 5, 6]\n",
        "evens = list(filter(lambda x: x % 2 == 0, numbers))\n",
        "print(\"Even numbers:\", evens)"
      ],
      "metadata": {
        "colab": {
          "base_uri": "https://localhost:8080/"
        },
        "id": "39h0YFgXiLc6",
        "outputId": "77f0b1ea-3276-4462-ec0d-b2026de4a4af"
      },
      "execution_count": 8,
      "outputs": [
        {
          "output_type": "stream",
          "name": "stdout",
          "text": [
            "Even numbers: [2, 4, 6]\n"
          ]
        }
      ]
    },
    {
      "cell_type": "code",
      "source": [
        "doubles = list(map(lambda x: x * 2, numbers))\n",
        "print(\"Doubled numbers:\", doubles)"
      ],
      "metadata": {
        "colab": {
          "base_uri": "https://localhost:8080/"
        },
        "id": "A2sWqfnUiOA5",
        "outputId": "55d1ca73-f34e-457c-b07e-44e4dd3b5252"
      },
      "execution_count": 9,
      "outputs": [
        {
          "output_type": "stream",
          "name": "stdout",
          "text": [
            "Doubled numbers: [2, 4, 6, 8, 10, 12]\n"
          ]
        }
      ]
    },
    {
      "cell_type": "markdown",
      "source": [
        "**Advantages:**  \n",
        "   - Simple and concise.  \n",
        "   - Great for short tasks.  \n",
        "\n",
        "**Limitations:**  \n",
        "   - Can't handle multiple expressions.  \n",
        "   - Hard to read for complex logic.\n",
        "\n",
        "**When to Use:**  \n",
        "   For small, quick, and temporary functions."
      ],
      "metadata": {
        "id": "L8I2UdN_im-k"
      }
    }
  ]
}
